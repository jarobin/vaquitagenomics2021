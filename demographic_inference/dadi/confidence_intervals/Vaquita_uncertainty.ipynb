{
 "cells": [
  {
   "cell_type": "code",
   "execution_count": 1,
   "metadata": {},
   "outputs": [],
   "source": [
    "import matplotlib\n",
    "import scipy \n",
    "import sys\n",
    "import argparse\n",
    "import numpy\n",
    "import dadi\n",
    "from dadi import Numerics, PhiManip, Integration, Spectrum, Misc, Demographics1D\n",
    "import dadi.Godambe"
   ]
  },
  {
   "cell_type": "code",
   "execution_count": 2,
   "metadata": {},
   "outputs": [],
   "source": [
    "fs= dadi.Spectrum.from_file(\"/Users/sergio/Downloads/Vaquita-26.sfs\")\n",
    "ns = fs.sample_sizes # get sample size from SFS (in haploids)\n",
    "pts_l = [ns[0]+5,ns[0]+15,ns[0]+25] # this should be slightly larger (+5) than sample size and increase by 10\n",
    "maxiter= 100"
   ]
  },
  {
   "cell_type": "code",
   "execution_count": 4,
   "metadata": {},
   "outputs": [],
   "source": [
    "#Bootstraping\n",
    "datafile = '/Users/sergio/Documents/SNPs_for_SFS_concat_vaquita.vcf.gz'\n",
    "dd = dadi.Misc.make_data_dict_vcf(datafile, '/Users/sergio/Documents/Vaquita_samples.txt')"
   ]
  },
  {
   "cell_type": "code",
   "execution_count": 5,
   "metadata": {},
   "outputs": [],
   "source": [
    "# Generate 100 bootstrap datasets, by dividing the genome into 2 Mb chunks and\n",
    "# resampling from those chunks.\n",
    "Nboot, chunk_size = 1000, 2e6\n",
    "chunks = dadi.Misc.fragment_data_dict(dd, chunk_size)"
   ]
  },
  {
   "cell_type": "code",
   "execution_count": 6,
   "metadata": {},
   "outputs": [],
   "source": [
    "pop_ids, ns = ['Vaquita'], [26]\n",
    "boots = dadi.Misc.bootstraps_from_dd_chunks(chunks, Nboot, pop_ids, ns, polarized=False)"
   ]
  },
  {
   "cell_type": "code",
   "execution_count": 7,
   "metadata": {},
   "outputs": [],
   "source": [
    "func = Demographics1D.two_epoch\n",
    "func_ex = dadi.Numerics.make_extrap_log_func(func)"
   ]
  },
  {
   "cell_type": "code",
   "execution_count": 8,
   "metadata": {},
   "outputs": [
    {
     "name": "stdout",
     "output_type": "stream",
     "text": [
      "Estimated parameter standard deviations from FIM: [6.73019708e-03 2.64800956e-02 7.27355851e+02]\n"
     ]
    }
   ],
   "source": [
    "# nu, T\n",
    "popt = [0.625938354,0.240982617] \n",
    "uncerts_fim = dadi.Godambe.FIM_uncert(func_ex, pts_l, popt, fs, multinom=True)\n",
    "print('Estimated parameter standard deviations from FIM: {0}'.format(uncerts_fim))"
   ]
  },
  {
   "cell_type": "code",
   "execution_count": 9,
   "metadata": {},
   "outputs": [
    {
     "name": "stdout",
     "output_type": "stream",
     "text": [
      "Estimated parameter standard deviations from GIM: [4.88464633e-02 1.50486079e-01 5.68815616e+03]\n"
     ]
    }
   ],
   "source": [
    "uncerts = dadi.Godambe.GIM_uncert(func_ex, pts_l, boots, popt, fs, multinom=True)\n",
    "print('Estimated parameter standard deviations from GIM: {0}'.format(uncerts))"
   ]
  },
  {
   "cell_type": "code",
   "execution_count": 10,
   "metadata": {},
   "outputs": [],
   "source": [
    "def bottleneck(params, ns, pts):\n",
    "    nuB,nuF,TB,TF = params\n",
    "    xx = Numerics.default_grid(pts) # sets up grid\n",
    "    phi = PhiManip.phi_1D(xx) # sets up initial phi for population\n",
    "    phi = Integration.one_pop(phi, xx, TB, nuB)  # bottleneck\n",
    "    phi = Integration.one_pop(phi, xx, TF, nuF) # recovery\n",
    "    fs = Spectrum.from_phi(phi, ns, (xx,))\n",
    "    return fs\n",
    "func=bottleneck\n",
    "func_ex = dadi.Numerics.make_extrap_log_func(func)"
   ]
  },
  {
   "cell_type": "code",
   "execution_count": 11,
   "metadata": {},
   "outputs": [
    {
     "name": "stdout",
     "output_type": "stream",
     "text": [
      "Estimated parameter standard deviations from FIM: [           nan 2.45909490e-02            nan 9.99009682e-03\n",
      " 3.26610665e+02]\n"
     ]
    }
   ],
   "source": [
    "# nuB, nuF, TB, TF\n",
    "popt = [0.06796994,0.699764842,0.004888897, 0.077023972] \n",
    "uncerts_fim = dadi.Godambe.FIM_uncert(func_ex, pts_l, popt, fs, multinom=True)\n",
    "print('Estimated parameter standard deviations from FIM: {0}'.format(uncerts_fim))"
   ]
  },
  {
   "cell_type": "code",
   "execution_count": 12,
   "metadata": {},
   "outputs": [
    {
     "name": "stdout",
     "output_type": "stream",
     "text": [
      "Estimated parameter standard deviations from GIM: [1.02186778e-02 7.06140794e-02 1.02957311e-03 3.54672169e-02\n",
      " 2.91297065e+03]\n"
     ]
    }
   ],
   "source": [
    "uncerts = dadi.Godambe.GIM_uncert(func_ex, pts_l, boots, popt, fs, \n",
    "                                  multinom=True)\n",
    "print('Estimated parameter standard deviations from GIM: {0}'.format(uncerts))"
   ]
  },
  {
   "cell_type": "code",
   "execution_count": 13,
   "metadata": {},
   "outputs": [],
   "source": [
    "def bottleneck(params, ns, pts):\n",
    "    nuB,nuF,nuC,TB,TF,TC = params\n",
    "    xx = Numerics.default_grid(pts) # sets up grid\n",
    "    phi = PhiManip.phi_1D(xx) # sets up initial phi for population\n",
    "    phi = Integration.one_pop(phi, xx, TB, nuB)  # bottleneck\n",
    "    phi = Integration.one_pop(phi, xx, TF, nuF) # recovery\n",
    "    phi = Integration.one_pop(phi, xx, TC, nuC) # current\n",
    "    fs = Spectrum.from_phi(phi, ns, (xx,))\n",
    "    return fs\n",
    "func=bottleneck\n",
    "func_ex = dadi.Numerics.make_extrap_log_func(func)"
   ]
  },
  {
   "cell_type": "code",
   "execution_count": 14,
   "metadata": {},
   "outputs": [
    {
     "name": "stdout",
     "output_type": "stream",
     "text": [
      "Estimated parameter standard deviations from FIM: [       nan 0.00239827        nan        nan        nan        nan\n",
      "        nan]\n"
     ]
    }
   ],
   "source": [
    "# nuB,nuR,nuC,TB,TR,TC\n",
    "popt = [2.829319576,0.025202708,0.801421785,0.466126545,0.004455258,0.109345731] \n",
    "uncerts_fim = dadi.Godambe.FIM_uncert(func_ex, pts_l, popt, fs, multinom=True)\n",
    "print('Estimated parameter standard deviations from FIM: {0}'.format(uncerts_fim))"
   ]
  },
  {
   "cell_type": "code",
   "execution_count": 15,
   "metadata": {},
   "outputs": [
    {
     "name": "stdout",
     "output_type": "stream",
     "text": [
      "Estimated parameter standard deviations from GIM: [1.70397957e+00 4.21591743e-03 6.86246636e-02 3.33306295e-01\n",
      " 1.16019642e-03 8.42939316e-02 4.82923786e+03]\n"
     ]
    }
   ],
   "source": [
    "uncerts = dadi.Godambe.GIM_uncert(func_ex, pts_l, boots, popt, fs, multinom=True)\n",
    "print('Estimated parameter standard deviations from GIM: {0}'.format(uncerts))"
   ]
  },
  {
   "cell_type": "code",
   "execution_count": null,
   "metadata": {},
   "outputs": [],
   "source": []
  }
 ],
 "metadata": {
  "kernelspec": {
   "display_name": "Python 2",
   "language": "python",
   "name": "python2"
  },
  "language_info": {
   "codemirror_mode": {
    "name": "ipython",
    "version": 2
   },
   "file_extension": ".py",
   "mimetype": "text/x-python",
   "name": "python",
   "nbconvert_exporter": "python",
   "pygments_lexer": "ipython2",
   "version": "2.7.15"
  }
 },
 "nbformat": 4,
 "nbformat_minor": 5
}
